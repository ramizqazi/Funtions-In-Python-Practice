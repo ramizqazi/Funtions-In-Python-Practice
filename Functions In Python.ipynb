{
 "cells": [
  {
   "cell_type": "markdown",
   "id": "ed467a90",
   "metadata": {},
   "source": [
    "# Functions"
   ]
  },
  {
   "cell_type": "code",
   "execution_count": 14,
   "id": "ecd09c3b",
   "metadata": {},
   "outputs": [],
   "source": [
    "def nameUpper():\n",
    "    \"\"\"This Function returns uppercase name\"\"\"\n",
    "    username = input(\"Please tell me your good name!\");\n",
    "    print(username.upper())"
   ]
  },
  {
   "cell_type": "code",
   "execution_count": 15,
   "id": "bb2523d5",
   "metadata": {
    "scrolled": false
   },
   "outputs": [
    {
     "name": "stdout",
     "output_type": "stream",
     "text": [
      "Please tell me your good name!Ramiz\n",
      "RAMIZ\n"
     ]
    }
   ],
   "source": [
    "nameUpper()"
   ]
  },
  {
   "cell_type": "code",
   "execution_count": 41,
   "id": "115fcd11",
   "metadata": {},
   "outputs": [],
   "source": [
    "def calculateSquare(num):\n",
    "   return num ** num;"
   ]
  },
  {
   "cell_type": "code",
   "execution_count": 42,
   "id": "2927c3f3",
   "metadata": {},
   "outputs": [
    {
     "data": {
      "text/plain": [
       "3125"
      ]
     },
     "execution_count": 42,
     "metadata": {},
     "output_type": "execute_result"
    }
   ],
   "source": [
    "calculateSquare(5)"
   ]
  },
  {
   "cell_type": "code",
   "execution_count": 59,
   "id": "615fd72c",
   "metadata": {},
   "outputs": [],
   "source": [
    "def reverseString(str = 'abc'):\n",
    "    return str, str[::-1];"
   ]
  },
  {
   "cell_type": "code",
   "execution_count": 60,
   "id": "4eea07c9",
   "metadata": {},
   "outputs": [
    {
     "data": {
      "text/plain": [
       "('Ramiz', 'zimaR')"
      ]
     },
     "execution_count": 60,
     "metadata": {},
     "output_type": "execute_result"
    }
   ],
   "source": [
    "reverseString('Ramiz')"
   ]
  },
  {
   "cell_type": "code",
   "execution_count": 61,
   "id": "2b857a9d",
   "metadata": {},
   "outputs": [],
   "source": [
    "rString = reverseString('Ramiz is a boy')"
   ]
  },
  {
   "cell_type": "code",
   "execution_count": 62,
   "id": "7503916f",
   "metadata": {},
   "outputs": [
    {
     "data": {
      "text/plain": [
       "tuple"
      ]
     },
     "execution_count": 62,
     "metadata": {},
     "output_type": "execute_result"
    }
   ],
   "source": [
    "type(rString)"
   ]
  },
  {
   "cell_type": "code",
   "execution_count": 4,
   "id": "24ae4dfa",
   "metadata": {},
   "outputs": [],
   "source": [
    "def userDetail(*values):\n",
    "    for value in values:\n",
    "        print(value)"
   ]
  },
  {
   "cell_type": "code",
   "execution_count": 5,
   "id": "91ce991b",
   "metadata": {},
   "outputs": [
    {
     "name": "stdout",
     "output_type": "stream",
     "text": [
      "Ramiz\n",
      "father name\n",
      "email\n"
     ]
    }
   ],
   "source": [
    "userDetail('Ramiz', 'father name', 'email')"
   ]
  },
  {
   "cell_type": "code",
   "execution_count": 7,
   "id": "bd4adcf8",
   "metadata": {},
   "outputs": [],
   "source": [
    "def abc(name, id, *other):\n",
    "    print(name);\n",
    "    print(id);\n",
    "    for value in other:\n",
    "        print(value);"
   ]
  },
  {
   "cell_type": "code",
   "execution_count": 8,
   "id": "e2c18d41",
   "metadata": {},
   "outputs": [
    {
     "name": "stdout",
     "output_type": "stream",
     "text": [
      "Ramiz\n",
      "19\n",
      "email\n",
      "389329389933983\n"
     ]
    }
   ],
   "source": [
    "abc('Ramiz', 19, 'email', 389329389933983)"
   ]
  },
  {
   "cell_type": "code",
   "execution_count": 16,
   "id": "ff506cd9",
   "metadata": {},
   "outputs": [],
   "source": [
    "def xyz(list):\n",
    "    arr = [];\n",
    "    for item in list:\n",
    "        value = list.pop();\n",
    "        arr.append(value);\n",
    "    print(list);\n",
    "    print(arr)"
   ]
  },
  {
   "cell_type": "code",
   "execution_count": 17,
   "id": "8df5be70",
   "metadata": {},
   "outputs": [
    {
     "name": "stdout",
     "output_type": "stream",
     "text": [
      "['abc', 'xyz']\n",
      "['lll', 'dd', 'ccc']\n"
     ]
    }
   ],
   "source": [
    "xyz(['abc', 'xyz', 'ccc', 'dd', 'lll'])"
   ]
  },
  {
   "cell_type": "code",
   "execution_count": 20,
   "id": "d7875222",
   "metadata": {},
   "outputs": [],
   "source": [
    "def names(list):\n",
    "    arr = [];\n",
    "    for item in range(len(list)):\n",
    "        value = list.pop();\n",
    "        arr.append(value);\n",
    "    print(list);\n",
    "    print(arr)"
   ]
  },
  {
   "cell_type": "code",
   "execution_count": 21,
   "id": "c4d186ab",
   "metadata": {},
   "outputs": [
    {
     "name": "stdout",
     "output_type": "stream",
     "text": [
      "[]\n",
      "['danish', 'umer', 'asad', 'ali', 'ramiz']\n"
     ]
    }
   ],
   "source": [
    "names(['ramiz', 'ali', 'asad', 'umer', 'danish'])"
   ]
  },
  {
   "cell_type": "code",
   "execution_count": 59,
   "id": "ceea0c7f",
   "metadata": {},
   "outputs": [],
   "source": [
    "def build_profile(first, last, **user_info):\n",
    "    profile = {};\n",
    "    profile['first_name'] = first;\n",
    "    profile['last_name'] = last;\n",
    "#     profile['otherDetails'] = user_info\n",
    "    for key, value in user_info.items():\n",
    "        profile[key] = value;\n",
    "    return profile;"
   ]
  },
  {
   "cell_type": "code",
   "execution_count": 60,
   "id": "9b77dd8d",
   "metadata": {},
   "outputs": [
    {
     "name": "stdout",
     "output_type": "stream",
     "text": [
      "{'first_name': 'Ramiz', 'last_name': 'Qazi', 'location': 'karachi', 'email': 'ramiz@gmail.com'}\n"
     ]
    }
   ],
   "source": [
    "user_profile = build_profile('Ramiz', 'Qazi', location='karachi', email='ramiz@gmail.com')\n",
    "print(user_profile)"
   ]
  },
  {
   "cell_type": "code",
   "execution_count": 97,
   "id": "21ad4941",
   "metadata": {},
   "outputs": [],
   "source": [
    "def make_album(artist_name, album_title, num_of_tracks = 0):\n",
    "    album = {};\n",
    "    album['artist'] = artist_name;\n",
    "    album['album'] = album_title;\n",
    "    if(num_of_tracks):\n",
    "        album['tracks'] = num_of_tracks;\n",
    "    return album;"
   ]
  },
  {
   "cell_type": "code",
   "execution_count": 98,
   "id": "6112a14e",
   "metadata": {},
   "outputs": [
    {
     "data": {
      "text/plain": [
       "{'artist': 'Ramiz', 'album': 'Hello World'}"
      ]
     },
     "execution_count": 98,
     "metadata": {},
     "output_type": "execute_result"
    }
   ],
   "source": [
    "make_album('Ramiz','Hello World')"
   ]
  },
  {
   "cell_type": "code",
   "execution_count": 123,
   "id": "a5c98949",
   "metadata": {},
   "outputs": [],
   "source": [
    "import module1"
   ]
  },
  {
   "cell_type": "code",
   "execution_count": 124,
   "id": "e09370b6",
   "metadata": {},
   "outputs": [
    {
     "name": "stdout",
     "output_type": "stream",
     "text": [
      "('abc', 'cba')\n"
     ]
    }
   ],
   "source": [
    "print(module1.reverseString())"
   ]
  },
  {
   "cell_type": "code",
   "execution_count": null,
   "id": "cf9f3868",
   "metadata": {},
   "outputs": [],
   "source": []
  },
  {
   "cell_type": "code",
   "execution_count": null,
   "id": "d071a17c",
   "metadata": {},
   "outputs": [],
   "source": []
  },
  {
   "cell_type": "code",
   "execution_count": null,
   "id": "f919e2a1",
   "metadata": {},
   "outputs": [],
   "source": []
  }
 ],
 "metadata": {
  "kernelspec": {
   "display_name": "Python 3 (ipykernel)",
   "language": "python",
   "name": "python3"
  },
  "language_info": {
   "codemirror_mode": {
    "name": "ipython",
    "version": 3
   },
   "file_extension": ".py",
   "mimetype": "text/x-python",
   "name": "python",
   "nbconvert_exporter": "python",
   "pygments_lexer": "ipython3",
   "version": "3.9.12"
  },
  "widgets": {
   "application/vnd.jupyter.widget-state+json": {
    "state": {},
    "version_major": 2,
    "version_minor": 0
   }
  }
 },
 "nbformat": 4,
 "nbformat_minor": 5
}
